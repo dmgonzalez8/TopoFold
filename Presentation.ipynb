{
 "cells": [
  {
   "cell_type": "markdown",
   "id": "35cac7c0-4912-4bdb-8c0d-2a9dd9768097",
   "metadata": {},
   "source": [
    "# Generative models for protein sequences\n",
    "## Authors: Eren Bardak, Daniel Gonzalez\n",
    "### In this notebook we investigate two different methods for generating novel protein sequences. In the first part, we extended and fine-tuned the [Struct2Seq](https://github.com/jingraham/neurips19-graph-protein-design) model which leverages a Transformer and Message Passing Neural Network (instead of attention) to predict novel [Multiple Sequence Alignments](https://en.wikipedia.org/wiki/Multiple_sequence_alignment) from a given protein sequence. In the second part, we extend and fine-tune [ProtGPT2](https://huggingface.co/nferruz/ProtGPT2/blob/main/README.md) to predict completely novel protein sequences.\n",
    "\n",
    "## Background Info:\n",
    "### Structure\n",
    "### Multiple Sequence Alignments (MSA):\n",
    "\n",
    "![Sample MSA](./images/msa.png)"
   ]
  },
  {
   "cell_type": "markdown",
   "id": "a3d5a76b-d2fe-49b2-97f0-fe94c4b065ce",
   "metadata": {},
   "source": [
    "Install required packages before beginning:"
   ]
  },
  {
   "cell_type": "code",
   "execution_count": 1,
   "id": "e550d507-e54f-46e3-b9ed-da4ff0006a02",
   "metadata": {},
   "outputs": [],
   "source": [
    "# !pip install biopython\n",
    "# !pip install nglview\n",
    "# !conda install -c conda-forge nglview"
   ]
  },
  {
   "cell_type": "code",
   "execution_count": 2,
   "id": "2e6f2f82-892d-4b85-9618-271da9e1024b",
   "metadata": {},
   "outputs": [
    {
     "data": {
      "application/vnd.jupyter.widget-view+json": {
       "model_id": "14954185b0504807880bf262e6ec5235",
       "version_major": 2,
       "version_minor": 0
      },
      "text/plain": []
     },
     "metadata": {},
     "output_type": "display_data"
    }
   ],
   "source": [
    "import pandas as pd\n",
    "import numpy as np\n",
    "from tqdm import tqdm\n",
    "import nglview as nv\n",
    "from Bio.PDB import PDBParser\n",
    "import json\n",
    "import matplotlib.pyplot as plt\n",
    "import nglview as nv\n",
    "from IPython.display import display as ipy_display\n",
    "import ipywidgets as widgets\n",
    "import warnings\n",
    "warnings.filterwarnings('ignore')"
   ]
  },
  {
   "cell_type": "markdown",
   "id": "55d35c76-33c5-469e-8b0f-8f7b5064e8fc",
   "metadata": {},
   "source": [
    "## Dataset download\n",
    "### The [ProteinNet CASP12 dataset](https://github.com/aqlaboratory/proteinnet/tree/master) is large ASCII encoded file of protein sequences paired with PSSM and other structural information. Documentation is available at the above link. First we will need to parse this data into a useable format."
   ]
  },
  {
   "cell_type": "code",
   "execution_count": 3,
   "id": "2b52ff76-1806-419d-8ad8-042ae837ed80",
   "metadata": {},
   "outputs": [],
   "source": [
    "def parse_protein_data(file_path, n):\n",
    "    # Initialize lists to store data\n",
    "    ids = []\n",
    "    sequences = []\n",
    "    evolutionary = []\n",
    "    tertiary = []\n",
    "    masks = []\n",
    "    \n",
    "    # Initialize counters and temporary storage for current protein data\n",
    "    current_protein = {}\n",
    "    count = 0\n",
    "    \n",
    "    with open(file_path, 'r') as file:\n",
    "        for line in tqdm(file):\n",
    "            line = line.strip()\n",
    "            if line.startswith('[ID]'):\n",
    "                # Save previous protein data if exists\n",
    "                if current_protein:\n",
    "                    ids.append(current_protein.get('ID', ''))\n",
    "                    sequences.append(current_protein.get('PRIMARY', ''))\n",
    "                    evolutionary.append(current_protein.get('EVOLUTIONARY', []))\n",
    "                    tertiary.append(current_protein.get('TERTIARY', []))\n",
    "                    masks.append(current_protein.get('MASK', ''))\n",
    "                    count += 1\n",
    "                    # Break the loop if the required number of proteins have been parsed\n",
    "                    if count >= n:\n",
    "                        break\n",
    "                    current_protein = {}\n",
    "            \n",
    "            # Identify the section and append the data to the current protein\n",
    "            if line.startswith('['):\n",
    "                key = line[1:line.find(']')]\n",
    "                current_protein[key] = []\n",
    "            elif current_protein:\n",
    "                # Split TSV data into lists of floats or keep as strings depending on the section\n",
    "                if key in ['EVOLUTIONARY', 'TERTIARY']:\n",
    "                    # Split the line by spaces, convert each item to float\n",
    "                    current_protein[key].append([float(x) for x in line.split()])\n",
    "                else:\n",
    "                    current_protein[key].append(line)\n",
    "                \n",
    "    # Check if last processed protein needs to be added\n",
    "    if count < n and current_protein:\n",
    "        ids.append(current_protein.get('ID', ''))\n",
    "        sequences.append(current_protein.get('PRIMARY', ''))\n",
    "        evolutionary.append(current_protein.get('EVOLUTIONARY', []))\n",
    "        tertiary.append(current_protein.get('TERTIARY', []))\n",
    "        masks.append(current_protein.get('MASK', ''))\n",
    "    \n",
    "    # Create DataFrame\n",
    "    df = pd.DataFrame({\n",
    "        'ID': ids,\n",
    "        'Sequence': sequences,\n",
    "        'Evolutionary': evolutionary,\n",
    "        'Tertiary': tertiary,\n",
    "        'Mask': masks\n",
    "    })\n",
    "    \n",
    "    return df"
   ]
  },
  {
   "cell_type": "markdown",
   "id": "76d18c6c-35c4-4af4-aed6-a83bab3ce381",
   "metadata": {},
   "source": [
    "### Load the data into a df. We used the training_100 for fine tuning, but loaded the training_30 (which contains 30% of the full dataset) as an example."
   ]
  },
  {
   "cell_type": "code",
   "execution_count": 4,
   "id": "d658b9d9-e92e-4c53-a4fa-800342c5cdf9",
   "metadata": {},
   "outputs": [
    {
     "name": "stderr",
     "output_type": "stream",
     "text": [
      "834867it [00:29, 28693.81it/s]\n"
     ]
    },
    {
     "data": {
      "text/html": [
       "<div>\n",
       "<style scoped>\n",
       "    .dataframe tbody tr th:only-of-type {\n",
       "        vertical-align: middle;\n",
       "    }\n",
       "\n",
       "    .dataframe tbody tr th {\n",
       "        vertical-align: top;\n",
       "    }\n",
       "\n",
       "    .dataframe thead th {\n",
       "        text-align: right;\n",
       "    }\n",
       "</style>\n",
       "<table border=\"1\" class=\"dataframe\">\n",
       "  <thead>\n",
       "    <tr style=\"text-align: right;\">\n",
       "      <th></th>\n",
       "      <th>ID</th>\n",
       "      <th>Sequence</th>\n",
       "      <th>Evolutionary</th>\n",
       "      <th>Tertiary</th>\n",
       "      <th>Mask</th>\n",
       "    </tr>\n",
       "  </thead>\n",
       "  <tbody>\n",
       "    <tr>\n",
       "      <th>0</th>\n",
       "      <td>[4W8Q_1_A]</td>\n",
       "      <td>[NGIVPDAGHQGPDVSAVNGGTQVINIVTPNNEGISHNQYQDFNVG...</td>\n",
       "      <td>[[0.0, 0.0, 0.0, 0.003620273531777957, 0.05267...</td>\n",
       "      <td>[[8667.0, 8744.7, 8693.8, 8561.7, 8507.4, 8541...</td>\n",
       "      <td>[+++++++++++++++++++++++++++++++++++++++++++++...</td>\n",
       "    </tr>\n",
       "    <tr>\n",
       "      <th>1</th>\n",
       "      <td>[2J58_1_A]</td>\n",
       "      <td>[ATIIPGQGLNSLRKNVVELPDSDYDLDKLVNVYPMTPGLIDQLRP...</td>\n",
       "      <td>[[0.05, 0.0, 0.0, 0.013847675568743818, 0.0, 0...</td>\n",
       "      <td>[[2309.3, 2397.7, 2539.4, 2627.5, 2769.0, 2861...</td>\n",
       "      <td>[+++++++++++++++++++++++++++++++++++++++++++++...</td>\n",
       "    </tr>\n",
       "  </tbody>\n",
       "</table>\n",
       "</div>"
      ],
      "text/plain": [
       "           ID                                           Sequence  \\\n",
       "0  [4W8Q_1_A]  [NGIVPDAGHQGPDVSAVNGGTQVINIVTPNNEGISHNQYQDFNVG...   \n",
       "1  [2J58_1_A]  [ATIIPGQGLNSLRKNVVELPDSDYDLDKLVNVYPMTPGLIDQLRP...   \n",
       "\n",
       "                                        Evolutionary  \\\n",
       "0  [[0.0, 0.0, 0.0, 0.003620273531777957, 0.05267...   \n",
       "1  [[0.05, 0.0, 0.0, 0.013847675568743818, 0.0, 0...   \n",
       "\n",
       "                                            Tertiary  \\\n",
       "0  [[8667.0, 8744.7, 8693.8, 8561.7, 8507.4, 8541...   \n",
       "1  [[2309.3, 2397.7, 2539.4, 2627.5, 2769.0, 2861...   \n",
       "\n",
       "                                                Mask  \n",
       "0  [+++++++++++++++++++++++++++++++++++++++++++++...  \n",
       "1  [+++++++++++++++++++++++++++++++++++++++++++++...  "
      ]
     },
     "execution_count": 4,
     "metadata": {},
     "output_type": "execute_result"
    }
   ],
   "source": [
    "file_path = './data/training_30'\n",
    "number_of_proteins = 50000  # Set how many proteins you want to load\n",
    "protein_df = parse_protein_data(file_path, number_of_proteins)\n",
    "protein_df.head(2)"
   ]
  },
  {
   "cell_type": "code",
   "execution_count": 5,
   "id": "26dfc59c-16db-48ff-a39f-906e12b8e06e",
   "metadata": {},
   "outputs": [
    {
     "name": "stdout",
     "output_type": "stream",
     "text": [
      "Number of proteins loaded: 25299\n"
     ]
    }
   ],
   "source": [
    "print(\"Number of proteins loaded:\",len(protein_df))"
   ]
  },
  {
   "cell_type": "markdown",
   "id": "891cf7e2-2ed4-4bfb-b2bd-50bca1286655",
   "metadata": {},
   "source": [
    "### The secondary parser updates the types and dimensions of several variables to allow for easier processing:"
   ]
  },
  {
   "cell_type": "code",
   "execution_count": 6,
   "id": "7c4627db-4a1c-4f8d-b56c-0cf992d370c9",
   "metadata": {},
   "outputs": [],
   "source": [
    "def process_dataframe(df):\n",
    "    # Convert ID, Sequence, and Mask to string directly\n",
    "    df['ID'] = df['ID'].apply(lambda x: ''.join(x))\n",
    "    df['Sequence'] = df['Sequence'].apply(lambda x: ''.join(x))\n",
    "    df['Mask'] = df['Mask'].apply(lambda x: ''.join(x).replace('+', '1').replace('-', '0'))\n",
    "\n",
    "    # Initialize columns for coordinates and amino acids\n",
    "    coord_columns = ['x', 'y', 'z']\n",
    "    aa_columns = ['A','C','D','E','F','G','H','I','K','L','M','N','P','Q','R','S','T','V','W','Y','Info']\n",
    "\n",
    "    # Expand tertiary coordinates\n",
    "    for i, col in enumerate(coord_columns):\n",
    "        df[col] = df['Tertiary'].apply(lambda x: x[i] if len(x) > i else None)\n",
    "\n",
    "    # Expand evolutionary data into separate columns for each amino acid position\n",
    "    for i, col in enumerate(aa_columns):\n",
    "        df[col] = df['Evolutionary'].apply(lambda x: x[i] if len(x) > i else None)\n",
    "\n",
    "    # Drop the original Tertiary and Evolutionary columns\n",
    "    df.drop(['Tertiary', 'Evolutionary'], axis=1, inplace=True)\n",
    "\n",
    "    return df"
   ]
  },
  {
   "cell_type": "code",
   "execution_count": 7,
   "id": "e1c3fe4f-345f-4441-817a-6c408acd6631",
   "metadata": {},
   "outputs": [
    {
     "data": {
      "text/html": [
       "<div>\n",
       "<style scoped>\n",
       "    .dataframe tbody tr th:only-of-type {\n",
       "        vertical-align: middle;\n",
       "    }\n",
       "\n",
       "    .dataframe tbody tr th {\n",
       "        vertical-align: top;\n",
       "    }\n",
       "\n",
       "    .dataframe thead th {\n",
       "        text-align: right;\n",
       "    }\n",
       "</style>\n",
       "<table border=\"1\" class=\"dataframe\">\n",
       "  <thead>\n",
       "    <tr style=\"text-align: right;\">\n",
       "      <th></th>\n",
       "      <th>ID</th>\n",
       "      <th>Sequence</th>\n",
       "      <th>Mask</th>\n",
       "      <th>x</th>\n",
       "      <th>y</th>\n",
       "      <th>z</th>\n",
       "      <th>A</th>\n",
       "      <th>C</th>\n",
       "      <th>D</th>\n",
       "      <th>E</th>\n",
       "      <th>...</th>\n",
       "      <th>N</th>\n",
       "      <th>P</th>\n",
       "      <th>Q</th>\n",
       "      <th>R</th>\n",
       "      <th>S</th>\n",
       "      <th>T</th>\n",
       "      <th>V</th>\n",
       "      <th>W</th>\n",
       "      <th>Y</th>\n",
       "      <th>Info</th>\n",
       "    </tr>\n",
       "  </thead>\n",
       "  <tbody>\n",
       "    <tr>\n",
       "      <th>0</th>\n",
       "      <td>4W8Q_1_A</td>\n",
       "      <td>NGIVPDAGHQGPDVSAVNGGTQVINIVTPNNEGISHNQYQDFNVGK...</td>\n",
       "      <td>1111111111111111111111111111111111111111111111...</td>\n",
       "      <td>[8667.0, 8744.7, 8693.8, 8561.7, 8507.4, 8541....</td>\n",
       "      <td>[220.7, 313.5, 320.5, 325.9, 345.5, 481.0, 583...</td>\n",
       "      <td>[2297.8, 2216.1, 2071.6, 2056.4, 1922.2, 1860....</td>\n",
       "      <td>[0.0, 0.0, 0.0, 0.003620273531777957, 0.052679...</td>\n",
       "      <td>[0.0, 0.0, 0.0, 0.0, 0.0, 0.0, 0.0, 0.0, 0.007...</td>\n",
       "      <td>[0.0, 0.0, 0.0, 0.0, 0.0778237933244589, 0.159...</td>\n",
       "      <td>[0.0, 0.0, 0.0, 0.0, 0.0, 0.015286944949013542...</td>\n",
       "      <td>...</td>\n",
       "      <td>[0.9999999999999999, 0.0, 0.0, 0.0, 0.03705073...</td>\n",
       "      <td>[0.0, 0.0, 0.0, 0.0, 0.6938815757037914, 0.072...</td>\n",
       "      <td>[0.0, 0.0, 0.0, 0.0, 0.006507913030616773, 0.0...</td>\n",
       "      <td>[0.0, 0.0, 0.0, 0.0, 0.0, 0.001870402676114598...</td>\n",
       "      <td>[0.0, 0.0, 0.0, 0.0, 0.005743726273233743, 0.0...</td>\n",
       "      <td>[0.0, 0.0, 0.0, 0.004424778761061947, 0.000640...</td>\n",
       "      <td>[0.0, 0.0, 0.2848732624693377, 0.7300884955752...</td>\n",
       "      <td>[0.0, 0.0, 0.0, 0.0, 0.0, 0.0, 0.0, 0.0, 0.0, ...</td>\n",
       "      <td>[0.0, 0.0, 0.0, 0.0, 0.0, 0.0, 0.0, 0.0, 0.001...</td>\n",
       "      <td>[0.9999999988691709, 0.9999999988691709, 0.683...</td>\n",
       "    </tr>\n",
       "    <tr>\n",
       "      <th>1</th>\n",
       "      <td>2J58_1_A</td>\n",
       "      <td>ATIIPGQGLNSLRKNVVELPDSDYDLDKLVNVYPMTPGLIDQLRPE...</td>\n",
       "      <td>1111111111111111111111111111111111111111111111...</td>\n",
       "      <td>[2309.3, 2397.7, 2539.4, 2627.5, 2769.0, 2861....</td>\n",
       "      <td>[12053.4, 11937.9, 11979.8, 11789.8, 11789.8, ...</td>\n",
       "      <td>[1185.1, 1201.8, 1162.6, 1307.8, 1353.3, 1234....</td>\n",
       "      <td>[0.05, 0.0, 0.0, 0.013847675568743818, 0.0, 0....</td>\n",
       "      <td>[0.05, 0.0, 0.0, 0.0, 0.0, 0.0, 0.0, 0.0, 0.0,...</td>\n",
       "      <td>[0.05, 0.0, 0.0, 0.0, 0.0, 0.0, 0.0, 0.0190545...</td>\n",
       "      <td>[0.05, 0.0, 0.0, 0.010880316518298716, 0.0, 0....</td>\n",
       "      <td>...</td>\n",
       "      <td>[0.05, 0.0, 0.0, 0.0, 0.0, 0.0, 0.012617083741...</td>\n",
       "      <td>[0.05, 0.0, 0.0, 0.0, 0.987119353442055, 0.0, ...</td>\n",
       "      <td>[0.05, 0.0, 0.0, 0.003297065611605671, 0.0, 0....</td>\n",
       "      <td>[0.05, 0.0, 0.0, 0.0, 0.0, 0.0, 0.0, 0.0272455...</td>\n",
       "      <td>[0.05, 0.0, 0.0, 0.005793415288964251, 0.0, 0....</td>\n",
       "      <td>[0.05, 1.0, 0.0, 0.00923178371249588, 0.005159...</td>\n",
       "      <td>[0.05, 0.0, 0.4501113275814083, 0.357590316047...</td>\n",
       "      <td>[0.05, 0.0, 0.0, 0.0, 0.0, 0.0, 0.0, 0.0, 0.0,...</td>\n",
       "      <td>[0.05, 0.0, 0.0, 0.0012246243700249637, 0.0, 0...</td>\n",
       "      <td>[0.0, 0.9999999988691709, 0.6918268592985294, ...</td>\n",
       "    </tr>\n",
       "  </tbody>\n",
       "</table>\n",
       "<p>2 rows × 27 columns</p>\n",
       "</div>"
      ],
      "text/plain": [
       "         ID                                           Sequence  \\\n",
       "0  4W8Q_1_A  NGIVPDAGHQGPDVSAVNGGTQVINIVTPNNEGISHNQYQDFNVGK...   \n",
       "1  2J58_1_A  ATIIPGQGLNSLRKNVVELPDSDYDLDKLVNVYPMTPGLIDQLRPE...   \n",
       "\n",
       "                                                Mask  \\\n",
       "0  1111111111111111111111111111111111111111111111...   \n",
       "1  1111111111111111111111111111111111111111111111...   \n",
       "\n",
       "                                                   x  \\\n",
       "0  [8667.0, 8744.7, 8693.8, 8561.7, 8507.4, 8541....   \n",
       "1  [2309.3, 2397.7, 2539.4, 2627.5, 2769.0, 2861....   \n",
       "\n",
       "                                                   y  \\\n",
       "0  [220.7, 313.5, 320.5, 325.9, 345.5, 481.0, 583...   \n",
       "1  [12053.4, 11937.9, 11979.8, 11789.8, 11789.8, ...   \n",
       "\n",
       "                                                   z  \\\n",
       "0  [2297.8, 2216.1, 2071.6, 2056.4, 1922.2, 1860....   \n",
       "1  [1185.1, 1201.8, 1162.6, 1307.8, 1353.3, 1234....   \n",
       "\n",
       "                                                   A  \\\n",
       "0  [0.0, 0.0, 0.0, 0.003620273531777957, 0.052679...   \n",
       "1  [0.05, 0.0, 0.0, 0.013847675568743818, 0.0, 0....   \n",
       "\n",
       "                                                   C  \\\n",
       "0  [0.0, 0.0, 0.0, 0.0, 0.0, 0.0, 0.0, 0.0, 0.007...   \n",
       "1  [0.05, 0.0, 0.0, 0.0, 0.0, 0.0, 0.0, 0.0, 0.0,...   \n",
       "\n",
       "                                                   D  \\\n",
       "0  [0.0, 0.0, 0.0, 0.0, 0.0778237933244589, 0.159...   \n",
       "1  [0.05, 0.0, 0.0, 0.0, 0.0, 0.0, 0.0, 0.0190545...   \n",
       "\n",
       "                                                   E  ...  \\\n",
       "0  [0.0, 0.0, 0.0, 0.0, 0.0, 0.015286944949013542...  ...   \n",
       "1  [0.05, 0.0, 0.0, 0.010880316518298716, 0.0, 0....  ...   \n",
       "\n",
       "                                                   N  \\\n",
       "0  [0.9999999999999999, 0.0, 0.0, 0.0, 0.03705073...   \n",
       "1  [0.05, 0.0, 0.0, 0.0, 0.0, 0.0, 0.012617083741...   \n",
       "\n",
       "                                                   P  \\\n",
       "0  [0.0, 0.0, 0.0, 0.0, 0.6938815757037914, 0.072...   \n",
       "1  [0.05, 0.0, 0.0, 0.0, 0.987119353442055, 0.0, ...   \n",
       "\n",
       "                                                   Q  \\\n",
       "0  [0.0, 0.0, 0.0, 0.0, 0.006507913030616773, 0.0...   \n",
       "1  [0.05, 0.0, 0.0, 0.003297065611605671, 0.0, 0....   \n",
       "\n",
       "                                                   R  \\\n",
       "0  [0.0, 0.0, 0.0, 0.0, 0.0, 0.001870402676114598...   \n",
       "1  [0.05, 0.0, 0.0, 0.0, 0.0, 0.0, 0.0, 0.0272455...   \n",
       "\n",
       "                                                   S  \\\n",
       "0  [0.0, 0.0, 0.0, 0.0, 0.005743726273233743, 0.0...   \n",
       "1  [0.05, 0.0, 0.0, 0.005793415288964251, 0.0, 0....   \n",
       "\n",
       "                                                   T  \\\n",
       "0  [0.0, 0.0, 0.0, 0.004424778761061947, 0.000640...   \n",
       "1  [0.05, 1.0, 0.0, 0.00923178371249588, 0.005159...   \n",
       "\n",
       "                                                   V  \\\n",
       "0  [0.0, 0.0, 0.2848732624693377, 0.7300884955752...   \n",
       "1  [0.05, 0.0, 0.4501113275814083, 0.357590316047...   \n",
       "\n",
       "                                                   W  \\\n",
       "0  [0.0, 0.0, 0.0, 0.0, 0.0, 0.0, 0.0, 0.0, 0.0, ...   \n",
       "1  [0.05, 0.0, 0.0, 0.0, 0.0, 0.0, 0.0, 0.0, 0.0,...   \n",
       "\n",
       "                                                   Y  \\\n",
       "0  [0.0, 0.0, 0.0, 0.0, 0.0, 0.0, 0.0, 0.0, 0.001...   \n",
       "1  [0.05, 0.0, 0.0, 0.0012246243700249637, 0.0, 0...   \n",
       "\n",
       "                                                Info  \n",
       "0  [0.9999999988691709, 0.9999999988691709, 0.683...  \n",
       "1  [0.0, 0.9999999988691709, 0.6918268592985294, ...  \n",
       "\n",
       "[2 rows x 27 columns]"
      ]
     },
     "execution_count": 7,
     "metadata": {},
     "output_type": "execute_result"
    }
   ],
   "source": [
    "# Example usage:\n",
    "processed_df = process_dataframe(protein_df)\n",
    "processed_df.head(2)"
   ]
  },
  {
   "cell_type": "markdown",
   "id": "da087be6-acdc-41c8-b422-c1fc03c203a1",
   "metadata": {},
   "source": [
    "## Data description:\n",
    "- ID is the protein name\n",
    "- Sequence is the amino acid sequence using the single letter code\n",
    "- Mask (same length as sequence) is a binary representation of how importatnt each amino acid is to the structure (that is, amino acids marked `0` can be changed without affecting the structure much, whereas amino acids marked `1` would significantly alter structure/function).\n",
    "- XYZ are the coordinates of each atom (note there are 3 atoms per amino acid, Nitrogen, alpha-Carbon, and Carbon, so there are 3 times as many coordinates as amino acids in the sequence)\n",
    "- The 20 columns A-Y are normalized PSSM information for each amino acid. This is essentially a sparse matrix where there is a row for each position in the protein sequence, and a column for each of the 20 amino acids.\n",
    "- Info contains the information content for that residue (unclear what this actually is)\n",
    "## Note:\n",
    "Proteins are chains of amino acids, and each amino acid has a backbone of three atoms, N-C-C, which are always linked in the N to C direction: \n",
    "\n",
    "`Beginning of protein sequence amino acids:       1       2       3    ... etc`\n",
    "\n",
    "`Beginning of protein sequence backbone atoms: (N-C-C)-(N-C-C)-(N-C-C)-... etc`\n",
    "\n",
    "So in our final output, we need to have xyz coordinates for each of the three atoms, in order, for every amino acid."
   ]
  },
  {
   "cell_type": "markdown",
   "id": "417a2857-aef0-4fa1-b5da-c8e8b02d5701",
   "metadata": {},
   "source": [
    "## The third parsing step turns a row of our dataframe into a PDB file that can be viewed with NGL. Note that our dataset doesn't have info on the secondary structure, so these structures will not appear bolded in the output. \n",
    "\n",
    "The PDB specification is available here: https://www.biostat.jhsph.edu/~iruczins/teaching/260.655/links/pdbformat.pdf"
   ]
  },
  {
   "cell_type": "code",
   "execution_count": 8,
   "id": "8f4d1567-519d-41d4-a427-bead0e15e95c",
   "metadata": {},
   "outputs": [],
   "source": [
    "def format_pdb_from_df(row):\n",
    "    pdb_str = \"\"\n",
    "    atom_count = 1  # Starting index for ATOM records\n",
    "    chain_id = 'A'  # Assuming a single chain for simplicity\n",
    "    res_num = 1     # Residue number\n",
    "    occupancy = 1.00\n",
    "    t_factor = 50.00\n",
    "\n",
    "    atom_types = ['N', 'CA', 'C']  # Backbone atoms\n",
    "    element_types = {'N': 'N', 'CA': 'C', 'C': 'C'}  # Elements for atoms\n",
    "    residue_mapping = {'A': 'ALA','R': 'ARG','N': 'ASN','D': 'ASP','C': 'CYS','E': 'GLU','Q': 'GLN','G': 'GLY',\n",
    "                       'H': 'HIS','I': 'ILE','L': 'LEU','K': 'LYS','M': 'MET','F': 'PHE','P': 'PRO','S': 'SER',\n",
    "                       'T': 'THR','W': 'TRP','Y': 'TYR','V': 'VAL' } # PDB requires the 3 letter codes for amino acids\n",
    "\n",
    "    for i in range(len(row['Sequence'])):\n",
    "        residue = residue_mapping[row['Sequence'][i]]\n",
    "        # Loop over each backbone atom type\n",
    "        for j, atom_type in enumerate(atom_types):\n",
    "            # Index to pull the correct coordinates from flattened list\n",
    "            idx = 3 * i + j\n",
    "            x = row['x'][idx]/100\n",
    "            y = row['y'][idx]/100\n",
    "            z = row['z'][idx]/100\n",
    "            element = element_types[atom_type]\n",
    "\n",
    "            pdb_str += f\"ATOM  {atom_count:>5}  {atom_type:<2}  {residue:>3} {chain_id}{res_num:>4}    {x:>8.3f}{y:>8.3f}{z:>8.3f}{occupancy:>6.2f}{t_factor:>6.2f}          {element:>2}  \\n\"\n",
    "            atom_count += 1\n",
    "\n",
    "        res_num += 1  # Increment residue number for each new amino acid\n",
    "\n",
    "    return pdb_str"
   ]
  },
  {
   "cell_type": "code",
   "execution_count": 26,
   "id": "c1dfffb0-3e2f-4313-a6bd-962a1da2f662",
   "metadata": {},
   "outputs": [],
   "source": [
    "# pick a random protein to visualize\n",
    "protein_row = processed_df.iloc[20]\n",
    "\n",
    "# print out the PDB content so we can see it\n",
    "pdb_content = format_pdb_from_df(protein_row)\n",
    "# print(pdb_content)\n",
    "\n",
    "# Write PDB to a file\n",
    "with open(\"./data/sample_protein.pdb\", \"w\") as file:\n",
    "    file.write(pdb_content)"
   ]
  },
  {
   "cell_type": "markdown",
   "id": "4e04a023-6545-416c-8848-525c40591627",
   "metadata": {},
   "source": [
    "## Now we can visualize our protein structure with NGLview"
   ]
  },
  {
   "cell_type": "code",
   "execution_count": 10,
   "id": "413fba38-fba4-4306-b8f2-be50c64f0d56",
   "metadata": {
    "scrolled": true
   },
   "outputs": [
    {
     "data": {
      "application/vnd.jupyter.widget-view+json": {
       "model_id": "59265b4d55ca4c1195154d9712f39036",
       "version_major": 2,
       "version_minor": 0
      },
      "text/plain": [
       "NGLWidget()"
      ]
     },
     "metadata": {},
     "output_type": "display_data"
    }
   ],
   "source": [
    "# Load your PDB file\n",
    "parser = PDBParser()\n",
    "structure = parser.get_structure('Sample', './data/sample_protein.pdb')\n",
    "\n",
    "# Create NGLView widget for the structure\n",
    "view = nv.show_biopython(structure)\n",
    "view.clear_representations()\n",
    "\n",
    "# Add molecular graphics: e.g., cartoon for secondary structures and ball+stick for atoms\n",
    "view.add_representation('cartoon', selection='protein', color='blue')\n",
    "view.add_representation('ball+stick', selection='ligand')\n",
    "\n",
    "view"
   ]
  },
  {
   "cell_type": "markdown",
   "id": "3fd4e42a-7736-4f04-969c-e7821c6137ce",
   "metadata": {},
   "source": [
    "## Export data to JSON for model input:\n",
    "### The following code exports the data to the JSONL format required by Struct2Seq."
   ]
  },
  {
   "cell_type": "markdown",
   "id": "e3d42164-5bec-45d7-8748-0bcebd2e656c",
   "metadata": {},
   "source": [
    "#### First we need to zip the coordinates to (x,y,z) format and divide by 100 to convert to Angstroms."
   ]
  },
  {
   "cell_type": "code",
   "execution_count": 11,
   "id": "d00ec7a6-33c8-4194-8efa-43c5a851791e",
   "metadata": {},
   "outputs": [],
   "source": [
    "backup=processed_df.copy(deep=True)"
   ]
  },
  {
   "cell_type": "code",
   "execution_count": 12,
   "id": "f82499e1-3da9-4b46-8539-3c880a1b5d42",
   "metadata": {},
   "outputs": [
    {
     "name": "stderr",
     "output_type": "stream",
     "text": [
      "Calculating x coords: 100%|██████████████| 25299/25299 [00:03<00:00, 6719.45it/s]\n",
      "Calculating y coords: 100%|██████████████| 25299/25299 [00:03<00:00, 6714.57it/s]\n",
      "Calculating z coords: 100%|██████████████| 25299/25299 [00:03<00:00, 6737.50it/s]\n",
      "Calculating zipped coords: 100%|████████| 25299/25299 [00:00<00:00, 28983.60it/s]\n"
     ]
    }
   ],
   "source": [
    "df_features = processed_df\n",
    "df_features.rename(columns={#\"Sequence\": \"Node_Sequence\",\n",
    "                            \"Mask\": \"Node_Mask\",\n",
    "                            \"ID\": \"Protein_Name\",}, inplace=True)\n",
    "# rescale distances to Angstroms\n",
    "tqdm.pandas(desc=\"Calculating x coords\")\n",
    "df_features['x'] = df_features['x'].progress_apply(lambda x: [round(val / 1, 3) for val in x])\n",
    "tqdm.pandas(desc=\"Calculating y coords\")\n",
    "df_features['y'] = df_features['y'].progress_apply(lambda x: [round(val / 1, 3) for val in x])\n",
    "tqdm.pandas(desc=\"Calculating z coords\")\n",
    "df_features['z'] = df_features['z'].progress_apply(lambda x: [round(val / 1, 3) for val in x])\n",
    "tqdm.pandas(desc=\"Calculating zipped coords\")\n",
    "df_features['Atom_Coordinates'] = df_features.progress_apply(lambda row: list(zip(row['x'], row['y'], row['z'])), axis=1)"
   ]
  },
  {
   "cell_type": "code",
   "execution_count": 13,
   "id": "89a687ec-bacb-4c8e-8411-2c9df6da4612",
   "metadata": {},
   "outputs": [],
   "source": [
    "def protein_to_jsonl(row):\n",
    "    # Split atom coordinates into groups by atom type: N, CA, C\n",
    "    n_coords = row['Atom_Coordinates'][0::3]  # Assuming every third starting from 0 is N\n",
    "    ca_coords = row['Atom_Coordinates'][1::3]  # Assuming every third starting from 1 is CA\n",
    "    c_coords = row['Atom_Coordinates'][2::3]  # Assuming every third starting from 2 is C\n",
    "\n",
    "    # Create a dictionary to hold the protein data\n",
    "    protein_data = {\n",
    "        \"name\": row['Protein_Name'],\n",
    "        \"conserved\": row['Node_Mask'],\n",
    "        \"num_chains\": 1,  # Assuming all entries have one chain; adjust as necessary\n",
    "        \"seq\": row['Sequence'],\n",
    "        \"coords\": {\n",
    "            \"N\": n_coords,\n",
    "            \"CA\": ca_coords,\n",
    "            \"C\": c_coords\n",
    "        }\n",
    "    }\n",
    "    return json.dumps(protein_data)  # Convert dictionary to JSON string"
   ]
  },
  {
   "cell_type": "markdown",
   "id": "f9f3ef9b-bc71-4ea7-a7e3-1adbd9235b80",
   "metadata": {},
   "source": [
    "#### Then export to JSON at the path expected by Struct2Seq"
   ]
  },
  {
   "cell_type": "code",
   "execution_count": 14,
   "id": "8741aba4-fbe4-4bdd-909e-d0ceb8bdaf80",
   "metadata": {},
   "outputs": [],
   "source": [
    "# Apply the function to each row and save the output as a JSONL file\n",
    "jsonl_data = df_features.apply(protein_to_jsonl, axis=1)\n",
    "\n",
    "# Write to a JSONL file\n",
    "with open('./data/cath/chain_set.jsonl', 'w') as outfile:\n",
    "    for entry in jsonl_data:\n",
    "        outfile.write(entry + '\\n')"
   ]
  },
  {
   "cell_type": "markdown",
   "id": "bb5b9931-de67-49e7-b269-e8e05de142db",
   "metadata": {},
   "source": [
    "#### Finally, create a train-test split JSON at the path required by Struct2Seq"
   ]
  },
  {
   "cell_type": "code",
   "execution_count": 15,
   "id": "7574cabc-4b1f-4792-beca-4a3df1ad8a9d",
   "metadata": {},
   "outputs": [],
   "source": [
    "# Shuffle the DataFrame\n",
    "df_shuffled = df_features.sample(frac=1).reset_index(drop=True)\n",
    "\n",
    "# Calculate split indices\n",
    "train_end = int(len(df_shuffled) * 0.85)\n",
    "val_end = train_end + int(len(df_shuffled) * 0.10)\n",
    "\n",
    "# Split the DataFrame into train, validation, and test\n",
    "train_proteins = df_shuffled.iloc[:train_end]['Protein_Name'].tolist()\n",
    "val_proteins = df_shuffled.iloc[train_end:val_end]['Protein_Name'].tolist()\n",
    "test_proteins = df_shuffled.iloc[val_end:]['Protein_Name'].tolist()\n",
    "\n",
    "# Create dictionary to be written as JSON\n",
    "split_dict = {\n",
    "    'train': train_proteins,\n",
    "    'validation': val_proteins,\n",
    "    'test': test_proteins\n",
    "}\n",
    "\n",
    "# Write to JSON file\n",
    "with open('./data/cath/chain_set_splits.json', 'w') as json_file:\n",
    "    json.dump(split_dict, json_file, indent=4)"
   ]
  },
  {
   "cell_type": "markdown",
   "id": "3780b7ba-0763-4e42-86c3-c6f4cae2e364",
   "metadata": {},
   "source": [
    "# Struct2Seq model training:"
   ]
  },
  {
   "cell_type": "markdown",
   "id": "65413859-b9de-4492-8cd5-2d3701455ce4",
   "metadata": {},
   "source": [
    "#### To train the model, navigate to the `/experiments` directory and run the following command:\n",
    "`python3 ./experiments/train_s2s.py --mpnn --cuda`\n",
    "#### The model will train for 100 epochs by default and periodically log progress.\n",
    "#### To test the model, from the same directory, run:\n",
    "`python3 test_redesign.py --mpnn --restore ./log/best_checkpoint_epoch94.pt`\n",
    "#### Make sure you adjust the filename for the best checkpoint. The model will save [FASTA](https://en.wikipedia.org/wiki/FASTA_format) files containing the generated multiple sequence alignments to the logs folder."
   ]
  },
  {
   "cell_type": "markdown",
   "id": "843e67cc-ff58-474c-bbac-f964922942ea",
   "metadata": {},
   "source": [
    "## `Struct2Seq` Model architecture:\n",
    "\n",
    "### 1. Featurization Layers\n",
    "- **ProteinFeatures**: Responsible for processing the raw protein data into usable features.\n",
    "  - **Node Features**: Number specified at initialization.\n",
    "  - **Edge Features**: Number specified at initialization.\n",
    "  - **Top-k Neighbors**: Determines the top k-nearest neighbors for each node for graph message passing.\n",
    "  - **Dropout**: Regularization parameter to prevent overfitting.\n",
    "\n",
    "### 2. Embedding Layers\n",
    "- **Node Embedding (W_v)**: Linear transformation layer for node features.\n",
    "  - **Input Features**: Node features dimension.\n",
    "  - **Output Features**: Hidden dimension size. (Default 128)\n",
    "      \n",
    "- **Edge Embedding (W_e)**: Linear transformation layer for edge features.\n",
    "  - **Input Features**: Edge features dimension.\n",
    "  - **Output Features**: Hidden dimension size. (Default 128)\n",
    "  \n",
    "- **Sequence Embedding (W_s)**: Embedding layer for sequence data.\n",
    "  - **Vocabulary Size**: 20 (for the 20 standard amino acids).\n",
    "  - **Embedding Dimension**: Hidden dimension size. \n",
    "\n",
    "### 3. Transformer/MPNN Layers\n",
    "- **Encoder Layers**: Multiple layers (number specified at initialization) to encode context.\n",
    "  - **Input/Output Features**: Both set to hidden dimension size multiplied by 2 for Transformers, consistent for MPNN.\n",
    "  - **Dropout**: Used within each layer to manage overfitting.\n",
    "  \n",
    "- **Decoder Layers**: Handles sequence prediction with autoregressive properties.\n",
    "  - **Input Features**: Hidden dimension size.\n",
    "  - **Output Features**: Hidden dimension size multiplied by 3 for Transformers, consistent for MPNN.\n",
    "  - **Dropout**: Applied within each layer.\n",
    "\n",
    "### 4. Output Layer\n",
    "- **Linear Transformation (W_out)**: Converts hidden states from the decoder to logits.\n",
    "  - **Input Features**: Hidden dimension size.\n",
    "  - **Output Features**: Number of letters (potential output classes, 20 for amino acids).\n",
    "\n",
    "### 5. Additional Mechanisms\n",
    "- **Autoregressive Masking**: Used in the decoder to ensure that the prediction for a position can only depend on known previous positions.\n",
    "- **Forward Attention Decoder**: Optional mechanism that can be toggled to modify attention behavior in the decoder. Unused when MPNN is active.\n",
    "\n",
    "## Extensions:\n",
    "#### The following features were added to `/struct2seq/protein_features.py` which are computed at runtime to enhance the GNN with additional features for message passing (MPNN).\n",
    "- `Solubility Interactions`: Every amino acid (node) is classified as hydrophobic (-1), hydrophilic (+1), or neutral (0) and similarly, edges between nodes are classified by the outer product of these interactions.\n",
    "- `Charge Interactions`: Every amino acid (node) is classified as positivly charged (+1), negatively charged (-1), or neutral (0) and similarly, edges between nodes are classified by the outer product of these interactions.\n",
    "- `Conservation Interactions`: Every amino acid (node) is classified as highly conserved (1), or not highly conserved (0) and similarly, edges between nodes are classified by the outer product of these interactions."
   ]
  },
  {
   "cell_type": "markdown",
   "id": "48ba1fe0-8034-4cf2-bcf9-9db66b7be0a9",
   "metadata": {},
   "source": [
    "# Results:\n",
    "- Training parameters:\n",
    "  - Hidden dimensions 128\n",
    "  - K Neighbors for message passing 30\n",
    "  - Vocab size 20\n",
    "  - Batch tokens 2500\n",
    "  - Epochs 100\n",
    "  - Dropout 0.1\n",
    "  - Loss smoothing 0.1\n",
    "- ### Perplexity Scores:\n",
    "  - ### Train: 5.07\n",
    "  - ### Validation: 5.34\n",
    "  - ### Test: 5.31\n",
    "### Interpretation:\n",
    "Every time the model generates a sequence, there are 5 candidate sequences with equal probablility which could be provided as output. Since we are trying to produce novel proteins, this seems like an acceptable amount of entropy. It would be interesting to see if more training lowers the uncertainty although the loss curve  doesn't suggest that this is the case."
   ]
  },
  {
   "cell_type": "code",
   "execution_count": 16,
   "id": "d4be2606-85f0-4422-b634-09f2e7be56a7",
   "metadata": {},
   "outputs": [
    {
     "data": {
      "image/png": "[encoded data removed]",
      "text/plain": [
       "<Figure size 500x300 with 1 Axes>"
      ]
     },
     "metadata": {},
     "output_type": "display_data"
    }
   ],
   "source": [
    "data = pd.read_csv('./experiments/log/log.txt', sep='\\t')\n",
    "plt.figure(figsize=(5, 3))\n",
    "plt.plot(data['Epoch'], data['Train'], label='Train Loss')\n",
    "plt.plot(data['Epoch'], data['Validation'], label='Validation Loss')\n",
    "plt.xlabel('Epoch')\n",
    "plt.ylabel('Loss')\n",
    "plt.title('Training and Validation Loss')\n",
    "plt.legend()\n",
    "plt.show()"
   ]
  },
  {
   "cell_type": "markdown",
   "id": "6b50223d-6bf0-40e1-88b8-5adf31ac9717",
   "metadata": {},
   "source": [
    "### Additional metrics (plots below)\n",
    "- The plots below are produced for a specific temperature. Temperature effects were not investigated in this experiment, but it should be noted that higher temperatures introduce more randomness into the model as higher temperature is a key driver of entropy in folding. We used a low temperature for predictions in order to increase accuracy.\n",
    "#### A) Log Probability Difference (Diff):\n",
    "- This plot displays the difference in log probabilities (`Diff`) between the sampled sequences and the native sequences for the temperature used during the sampling process.\n",
    "- Each point in the plot represents a protein's sampled sequence at a specific temperature, with the vertical axis showing the difference in log probabilities (`log P(sample) - log P(native)`).\n",
    "- The y-axis (log probability difference) measures how close the model's predictions are to considering the sampled sequence as probable as the native sequence. A value close to zero indicates that the sampled sequence is nearly as probable as the native sequence according to the model.\n",
    "- We found a median of 0.47 for the (`Diff`) which suggests that, while the native sample is considered more probable than the predicted sequences by the model, it is still reasonably probable under the model's current parameters.\n",
    "\n",
    "#### B) Decoding Temperature vs. Native Sequence Recovery:\n",
    "- This plot displays the \"similarity\" between the sampled sequences and the native sequences, measured as the fraction of amino acids that match the native sequence (`Native sequence recovery`).\n",
    "- The y-axis shows the similarity as a fraction, ranging from 0 (no similarity) to 1 (perfect match), illustrating how well the model can recreate the native sequence under different sampling conditions.\n",
    "- Higher values indicate better recovery of the native sequence, suggesting that the model is effective at predicting the correct amino acids given a protein structure.\n",
    "- We found a median of 0.41 for the recovery ratio, indicating that the model correctly predicts 41% of the amino acids in the native sequence. This is reasonable and expected as, on average, only 20-50% of protein seqeunces are highly conserved, allowing for significant variability in the remaining 50-80% of amino acid positions in a protein sequence.\n",
    "\n",
    "### A) Decoding Temperature vs. Log Probability Difference. &emsp;&emsp; B) Decoding Temp vs. Native Sequence Recovery\n",
    "![Model predictions for protein 2NWM_1_A](./images/decoding_recovery.png)"
   ]
  },
  {
   "cell_type": "code",
   "execution_count": 18,
   "id": "876b2337-ad76-430f-b1c2-1a7e47abfce4",
   "metadata": {},
   "outputs": [
    {
     "data": {
      "image/png": "[encoded data removed]",
      "text/plain": [
       "<Figure size 2000x500 with 4 Axes>"
      ]
     },
     "metadata": {},
     "output_type": "display_data"
    }
   ],
   "source": [
    "data = pd.read_csv('./experiments/test_log/results.csv')  \n",
    "\n",
    "# Set up the plots\n",
    "fig, axes = plt.subplots(nrows=1, ncols=4, figsize=(20, 5))\n",
    "columns = ['score', 'similarity', 'native', 'diff']\n",
    "titles = {'score': \"i) Distribution of log probability \\n of sampled sequence\", \n",
    "          'similarity': \"ii) Distibution of similarity of sampled \\n sequence to native sequence\" , \n",
    "          'native': \"iii) Distribution of log probability of native \\n sequence under the model\", \n",
    "          'diff': \"iv) Distribution of the difference in log probabilities \\n between the sampled and native sequences\",}\n",
    "# Plot each score in its own subplot\n",
    "for ax, column in zip(axes, columns):\n",
    "    data[column].plot(kind='hist', bins=20, alpha=0.75, ax=ax)\n",
    "    ax.set_title(titles[column])\n",
    "    ax.axvline(data[column].median(), color='r', linestyle='dashed', linewidth=1)\n",
    "    ax.set_xlabel(column)\n",
    "    ax.set_ylabel('Frequency')\n",
    "    # Annotate the median value\n",
    "    median_val = data[column].median()\n",
    "    ax.annotate(f'Median: {median_val:.2f}', xy=(median_val, ax.get_ylim()[1]*0.9), xytext=(median_val, ax.get_ylim()[1]*0.9),\n",
    "                arrowprops=dict(facecolor='black', shrink=0.05), horizontalalignment='left')\n",
    "\n",
    "plt.tight_layout()\n",
    "plt.show()"
   ]
  },
  {
   "cell_type": "markdown",
   "id": "ffdd9068-2e8f-48cb-b552-b4173a5c37ee",
   "metadata": {},
   "source": [
    "### More Distributions (above) n=7161\n",
    "- i) Score: The log probability of the sampled sequence under the model, given the protein structure. A higher score indicates that the model finds the sequence more likely.\n",
    "- ii) Similarity: This measures how similar the sampled sequence is to the native (actual) sequence. It's calculated as the number of matching amino acids divided by the total length of the sequence. Higher values indicate closer resemblance to the true sequence.\n",
    "- iii) Native: This represents the log probability of the native sequence under the model, suggesting how likely the model thinks the true sequence is given the protein's structure.\n",
    "- iv) Diff: This represents the difference in log probabilities between the sampled sequence and the native sequence. A smaller value (closer to zero) indicates that the sampled sequence is nearly as probable as the native sequence according to the model."
   ]
  },
  {
   "cell_type": "markdown",
   "id": "3d348141-3843-473d-841d-3b85247e28a2",
   "metadata": {
    "jp-MarkdownHeadingCollapsed": true
   },
   "source": [
    "### Visualizing sequence predictions for a given protein:\n",
    "The plot below shows the log probabilities of each of the 20 amino acids appearing at each position in the protein sequence. You can see that certain positions are highly conserved, that is there is only one amino acid that is likely appear in that position (yellow pixels). However, there are also regions with no strong prediction (all blue, or several light blue pixels for a sequence position on the x-axis). These regions have significant entropy in the amino acids sequence of a protein and are the source of variation in multiple sequence alignments. These logs are available for all proteins in the logs folder.\n",
    "\n",
    "![Model predictions for protein 2NWM_1_A](./images/train_2NWM_1_A_probs131248.png)"
   ]
  },
  {
   "cell_type": "markdown",
   "id": "6c7110cc-df1e-424d-b3c6-59d33529964d",
   "metadata": {},
   "source": [
    "### Visualizing protein structure\n",
    "[AlphaFold Server](https://alphafoldserver.com/about) was used to predict the structure of the novel multiple sequence alignments for 5 proteins. First we need to export the data for some proteins which have a predicted MSA:"
   ]
  },
  {
   "cell_type": "code",
   "execution_count": 19,
   "id": "6d7f00e8-6300-4480-a903-c01e3dbb9b98",
   "metadata": {},
   "outputs": [],
   "source": [
    "prot_list = data['name'].tolist()\n",
    "test_prots = [protein[:-3] for protein in prot_list]\n",
    "test_rows = df_features[df_features['Protein_Name'].isin(test_prots)]\n",
    "indexes = [1,578,1234,2777,3503] #randomly selected\n",
    "for i in indexes:\n",
    "    pdb_content = format_pdb_from_df(test_rows.iloc[i])\n",
    "    # Write PDB to a file\n",
    "    name = test_rows['Protein_Name'].iloc[i]\n",
    "    with open(f\"./data/{name}_test.pdb\", \"w\") as file:\n",
    "        file.write(pdb_content)"
   ]
  },
  {
   "cell_type": "markdown",
   "id": "98b547d8-fb95-4a9c-bb90-f1596bb90f0b",
   "metadata": {},
   "source": [
    "The MSA were then uploaded to AlphaFold and the structures computed. Plots of 5 distinct proteins along with 3 MSAs for each protein are visualized below. We can see that for all proteins, the MSA have visually identical structures to the native proteins."
   ]
  },
  {
   "cell_type": "code",
   "execution_count": 20,
   "id": "f19d3f80-d8f5-499a-800a-0e3d0bc15b8e",
   "metadata": {},
   "outputs": [
    {
     "name": "stdout",
     "output_type": "stream",
     "text": [
      "Structures for 1GXR\n"
     ]
    },
    {
     "data": {
      "application/vnd.jupyter.widget-view+json": {
       "model_id": "24e8173ecf5f4799ba3f40c106039c88",
       "version_major": 2,
       "version_minor": 0
      },
      "text/plain": [
       "AppLayout(children=(HBox(children=(NGLWidget(), NGLWidget()), layout=Layout(grid_area='center')),), layout=Lay…"
      ]
     },
     "metadata": {},
     "output_type": "display_data"
    },
    {
     "data": {
      "application/vnd.jupyter.widget-view+json": {
       "model_id": "ab739974990c4bb3ba01e9b26582812d",
       "version_major": 2,
       "version_minor": 0
      },
      "text/plain": [
       "AppLayout(children=(HBox(children=(NGLWidget(), NGLWidget()), layout=Layout(grid_area='center')),), layout=Lay…"
      ]
     },
     "metadata": {},
     "output_type": "display_data"
    }
   ],
   "source": [
    "view1 = nv.show_structure_file('./alphafold/fold_1gxr_msa1/fold_1gxr_msa1_model_0.cif')\n",
    "view1.clear_representations()\n",
    "view1.add_representation('cartoon', color='blue')\n",
    "view2 = nv.show_structure_file('./alphafold/fold_1gxr_msa2/fold_1gxr_msa2_model_0.cif')\n",
    "view2.clear_representations()\n",
    "view2.add_representation('cartoon', color='green')\n",
    "view3 = nv.show_structure_file('./alphafold/fold_1gxr_msa3/fold_1gxr_msa3_model_0.cif')\n",
    "view3.clear_representations()\n",
    "view3.add_representation('cartoon', color='red')\n",
    "view4 = nv.show_structure_file('./alphafold/fold_1gxr_msa4/fold_1gxr_msa4_model_0.cif')\n",
    "view4.clear_representations()\n",
    "view4.add_representation('cartoon', color='orange')\n",
    "app_layout1 = widgets.AppLayout(\n",
    "    center=widgets.HBox([view1, view2]),\n",
    "    header=None, footer=None,\n",
    "    left_sidebar=None, right_sidebar=None,\n",
    "    pane_widths=[1, 0, 1], pane_heights=[0, 1, 0])\n",
    "app_layout2 = widgets.AppLayout(\n",
    "    center=widgets.HBox([view3, view4]),\n",
    "    header=None, footer=None,\n",
    "    left_sidebar=None, right_sidebar=None,\n",
    "    pane_widths=[1, 0, 1], pane_heights=[0, 1, 0])\n",
    "print(\"Structures for 1GXR\")\n",
    "ipy_display(app_layout1)\n",
    "ipy_display(app_layout2)"
   ]
  },
  {
   "cell_type": "markdown",
   "id": "e103c5e9-e50e-4d30-bac4-b5ee8d741617",
   "metadata": {},
   "source": [
    "### Note: Keep in mind that AlphaFold structures are predictions, even for known models, so it is always good to check the actual structure with NGL to make sure it is not significantly different from AlphaFold. The native strucutre below is basically identical (don't be fooled by the lack of formatting for the chains)."
   ]
  },
  {
   "cell_type": "code",
   "execution_count": 21,
   "id": "42ed63de-1317-49f3-b231-2086db8623bd",
   "metadata": {},
   "outputs": [
    {
     "data": {
      "application/vnd.jupyter.widget-view+json": {
       "model_id": "17be6ca90ec84dc1aaf43878015657ab",
       "version_major": 2,
       "version_minor": 0
      },
      "text/plain": [
       "NGLWidget()"
      ]
     },
     "metadata": {},
     "output_type": "display_data"
    }
   ],
   "source": [
    "parser = PDBParser()\n",
    "structure = parser.get_structure('Sample', './data/1GXR_1_A_test.pdb')\n",
    "view = nv.show_biopython(structure)\n",
    "view.clear_representations()\n",
    "view.add_representation('cartoon', selection='protein', color='blue')\n",
    "view.add_representation('ball+stick', selection='ligand')\n",
    "view"
   ]
  },
  {
   "cell_type": "code",
   "execution_count": 22,
   "id": "95e3a3e7-4556-4554-be03-3716153c2b56",
   "metadata": {},
   "outputs": [
    {
     "name": "stdout",
     "output_type": "stream",
     "text": [
      "Structures for 2I6D\n"
     ]
    },
    {
     "data": {
      "application/vnd.jupyter.widget-view+json": {
       "model_id": "35ac1666f83d478e94f92a4f7eac01d4",
       "version_major": 2,
       "version_minor": 0
      },
      "text/plain": [
       "AppLayout(children=(HBox(children=(NGLWidget(), NGLWidget()), layout=Layout(grid_area='center')),), layout=Lay…"
      ]
     },
     "metadata": {},
     "output_type": "display_data"
    },
    {
     "data": {
      "application/vnd.jupyter.widget-view+json": {
       "model_id": "a3eb7219ecde481fabf91caa7f528464",
       "version_major": 2,
       "version_minor": 0
      },
      "text/plain": [
       "AppLayout(children=(HBox(children=(NGLWidget(), NGLWidget()), layout=Layout(grid_area='center')),), layout=Lay…"
      ]
     },
     "metadata": {},
     "output_type": "display_data"
    }
   ],
   "source": [
    "view1 = nv.show_structure_file('./alphafold/fold_2i6d_msa1/fold_2i6d_msa1_model_0.cif')\n",
    "view1.clear_representations()\n",
    "view1.add_representation('cartoon', color='blue')\n",
    "view2 = nv.show_structure_file('./alphafold/fold_2i6d_msa2/fold_2i6d_msa2_model_0.cif')\n",
    "view2.clear_representations()\n",
    "view2.add_representation('cartoon', color='green')\n",
    "view3 = nv.show_structure_file('./alphafold/fold_2i6d_msa3/fold_2i6d_msa3_model_0.cif')\n",
    "view3.clear_representations()\n",
    "view3.add_representation('cartoon', color='red')\n",
    "view4 = nv.show_structure_file('./alphafold/fold_2i6d_msa4/fold_2i6d_msa4_model_0.cif')\n",
    "view4.clear_representations()\n",
    "view4.add_representation('cartoon', color='orange')\n",
    "app_layout1 = widgets.AppLayout(\n",
    "    center=widgets.HBox([view1, view2]),\n",
    "    header=None, footer=None,\n",
    "    left_sidebar=None, right_sidebar=None,\n",
    "    pane_widths=[1, 0, 1], pane_heights=[0, 1, 0])\n",
    "app_layout2 = widgets.AppLayout(\n",
    "    center=widgets.HBox([view3, view4]),\n",
    "    header=None, footer=None,\n",
    "    left_sidebar=None, right_sidebar=None,\n",
    "    pane_widths=[1, 0, 1], pane_heights=[0, 1, 0])\n",
    "print(\"Structures for 2I6D\")\n",
    "ipy_display(app_layout1)\n",
    "ipy_display(app_layout2)"
   ]
  },
  {
   "cell_type": "code",
   "execution_count": 23,
   "id": "6576ae54-d91b-4b2a-89be-701fe35ca185",
   "metadata": {},
   "outputs": [
    {
     "name": "stdout",
     "output_type": "stream",
     "text": [
      "Structures for 3TPD - Notice the loop missing in the red structure\n"
     ]
    },
    {
     "data": {
      "application/vnd.jupyter.widget-view+json": {
       "model_id": "5afacd6604b649e991bd7a4dab5f0266",
       "version_major": 2,
       "version_minor": 0
      },
      "text/plain": [
       "AppLayout(children=(HBox(children=(NGLWidget(), NGLWidget()), layout=Layout(grid_area='center')),), layout=Lay…"
      ]
     },
     "metadata": {},
     "output_type": "display_data"
    },
    {
     "data": {
      "application/vnd.jupyter.widget-view+json": {
       "model_id": "9918214df7b44d83bf89957475d1fe7d",
       "version_major": 2,
       "version_minor": 0
      },
      "text/plain": [
       "AppLayout(children=(HBox(children=(NGLWidget(), NGLWidget()), layout=Layout(grid_area='center')),), layout=Lay…"
      ]
     },
     "metadata": {},
     "output_type": "display_data"
    }
   ],
   "source": [
    "view1 = nv.show_structure_file('./alphafold/fold_3tpd_msa1/fold_3tpd_msa1_model_0.cif')\n",
    "view1.clear_representations()\n",
    "view1.add_representation('cartoon', color='blue')\n",
    "view2 = nv.show_structure_file('./alphafold/fold_3tpd_msa2/fold_3tpd_msa2_model_0.cif')\n",
    "view2.clear_representations()\n",
    "view2.add_representation('cartoon', color='green')\n",
    "view3 = nv.show_structure_file('./alphafold/fold_3tpd_msa3/fold_3tpd_msa3_model_0.cif')\n",
    "view3.clear_representations()\n",
    "view3.add_representation('cartoon', color='red')\n",
    "view4 = nv.show_structure_file('./alphafold/fold_3tpd_msa4/fold_3tpd_msa4_model_0.cif')\n",
    "view4.clear_representations()\n",
    "view4.add_representation('cartoon', color='orange')\n",
    "app_layout1 = widgets.AppLayout(\n",
    "    center=widgets.HBox([view1, view2]),\n",
    "    header=None, footer=None,\n",
    "    left_sidebar=None, right_sidebar=None,\n",
    "    pane_widths=[1, 0, 1], pane_heights=[0, 1, 0])\n",
    "app_layout2 = widgets.AppLayout(\n",
    "    center=widgets.HBox([view3, view4]),\n",
    "    header=None, footer=None,\n",
    "    left_sidebar=None, right_sidebar=None,\n",
    "    pane_widths=[1, 0, 1], pane_heights=[0, 1, 0])\n",
    "print(\"Structures for 3TPD - Notice the loop missing in the red structure\")\n",
    "ipy_display(app_layout1)\n",
    "ipy_display(app_layout2)"
   ]
  },
  {
   "cell_type": "code",
   "execution_count": 24,
   "id": "8a6481c5-ee3a-4089-b53f-d95339bf0466",
   "metadata": {},
   "outputs": [
    {
     "name": "stdout",
     "output_type": "stream",
     "text": [
      "Structures for 4MU9|\n"
     ]
    },
    {
     "data": {
      "application/vnd.jupyter.widget-view+json": {
       "model_id": "dd1f2300c043405eae42daf8b894ac90",
       "version_major": 2,
       "version_minor": 0
      },
      "text/plain": [
       "AppLayout(children=(HBox(children=(NGLWidget(), NGLWidget()), layout=Layout(grid_area='center')),), layout=Lay…"
      ]
     },
     "metadata": {},
     "output_type": "display_data"
    },
    {
     "data": {
      "application/vnd.jupyter.widget-view+json": {
       "model_id": "18797db20214486b97824c2fa6ffc760",
       "version_major": 2,
       "version_minor": 0
      },
      "text/plain": [
       "AppLayout(children=(HBox(children=(NGLWidget(), NGLWidget()), layout=Layout(grid_area='center')),), layout=Lay…"
      ]
     },
     "metadata": {},
     "output_type": "display_data"
    }
   ],
   "source": [
    "view1 = nv.show_structure_file('./alphafold/fold_4mu9_msa1/fold_4mu9_msa1_model_0.cif')\n",
    "view1.clear_representations()\n",
    "view1.add_representation('cartoon', color='blue')\n",
    "view2 = nv.show_structure_file('./alphafold/fold_4mu9_msa2/fold_4mu9_msa2_model_0.cif')\n",
    "view2.clear_representations()\n",
    "view2.add_representation('cartoon', color='green')\n",
    "view3 = nv.show_structure_file('./alphafold/fold_4mu9_msa3/fold_4mu9_msa3_model_0.cif')\n",
    "view3.clear_representations()\n",
    "view3.add_representation('cartoon', color='red')\n",
    "view4 = nv.show_structure_file('./alphafold/fold_4mu9_msa4/fold_4mu9_msa4_model_0.cif')\n",
    "view4.clear_representations()\n",
    "view4.add_representation('cartoon', color='orange')\n",
    "app_layout1 = widgets.AppLayout(\n",
    "    center=widgets.HBox([view1, view2]),\n",
    "    header=None, footer=None,\n",
    "    left_sidebar=None, right_sidebar=None,\n",
    "    pane_widths=[1, 0, 1], pane_heights=[0, 1, 0])\n",
    "app_layout2 = widgets.AppLayout(\n",
    "    center=widgets.HBox([view3, view4]),\n",
    "    header=None, footer=None,\n",
    "    left_sidebar=None, right_sidebar=None,\n",
    "    pane_widths=[1, 0, 1], pane_heights=[0, 1, 0])\n",
    "print(\"Structures for 4MU9|\")\n",
    "ipy_display(app_layout1)\n",
    "ipy_display(app_layout2)"
   ]
  },
  {
   "cell_type": "code",
   "execution_count": 27,
   "id": "ae581237-340e-4646-ad87-6b6d1d2cc461",
   "metadata": {},
   "outputs": [
    {
     "name": "stdout",
     "output_type": "stream",
     "text": [
      "Structures for 1RFF\n"
     ]
    },
    {
     "data": {
      "application/vnd.jupyter.widget-view+json": {
       "model_id": "a390883c5a1c4bcebee9d526ee9d00ff",
       "version_major": 2,
       "version_minor": 0
      },
      "text/plain": [
       "AppLayout(children=(HBox(children=(NGLWidget(), NGLWidget()), layout=Layout(grid_area='center')),), layout=Lay…"
      ]
     },
     "metadata": {},
     "output_type": "display_data"
    },
    {
     "data": {
      "application/vnd.jupyter.widget-view+json": {
       "model_id": "f982e0af1fc84174b2353e53e8162951",
       "version_major": 2,
       "version_minor": 0
      },
      "text/plain": [
       "AppLayout(children=(HBox(children=(NGLWidget(), NGLWidget()), layout=Layout(grid_area='center')),), layout=Lay…"
      ]
     },
     "metadata": {},
     "output_type": "display_data"
    }
   ],
   "source": [
    "view1 = nv.show_structure_file('./alphafold/fold_1rff_msa1/fold_1rff_msa1_model_0.cif')\n",
    "view1.clear_representations()\n",
    "view1.add_representation('cartoon', color='blue')\n",
    "view2 = nv.show_structure_file('./alphafold/fold_1rff_msa2/fold_1rff_msa2_model_0.cif')\n",
    "view2.clear_representations()\n",
    "view2.add_representation('cartoon', color='green')\n",
    "view3 = nv.show_structure_file('./alphafold/fold_1rff_msa3/fold_1rff_msa3_model_0.cif')\n",
    "view3.clear_representations()\n",
    "view3.add_representation('cartoon', color='red')\n",
    "view4 = nv.show_structure_file('./alphafold/fold_1rff_msa4/fold_1rff_msa4_model_0.cif')\n",
    "view4.clear_representations()\n",
    "view4.add_representation('cartoon', color='orange')\n",
    "app_layout1 = widgets.AppLayout(\n",
    "    center=widgets.HBox([view1, view2]),\n",
    "    header=None, footer=None,\n",
    "    left_sidebar=None, right_sidebar=None,\n",
    "    pane_widths=[1, 0, 1], pane_heights=[0, 1, 0])\n",
    "app_layout2 = widgets.AppLayout(\n",
    "    center=widgets.HBox([view3, view4]),\n",
    "    header=None, footer=None,\n",
    "    left_sidebar=None, right_sidebar=None,\n",
    "    pane_widths=[1, 0, 1], pane_heights=[0, 1, 0])\n",
    "print(\"Structures for 1RFF\")\n",
    "ipy_display(app_layout1)\n",
    "ipy_display(app_layout2)"
   ]
  },
  {
   "cell_type": "markdown",
   "id": "fe003307-05af-4f55-ae02-f8d20c8b9fd6",
   "metadata": {},
   "source": [
    "## Conclusions: \n",
    "- This model is effective for generating MSAs with similar structure to a given protein.\n",
    "- In the future it would be useful to use a metric to compute how close the predicted structures of each of the MSAs is to the known native protein structure."
   ]
  },
  {
   "cell_type": "markdown",
   "id": "cbaded35-ef7f-4cd7-96e2-a6ae64297f56",
   "metadata": {},
   "source": [
    "# PART 2 - Novel sequence "
   ]
  },
  {
   "cell_type": "code",
   "execution_count": null,
   "id": "038a9b98-7c03-48ca-84e2-b67d0a3749d1",
   "metadata": {},
   "outputs": [],
   "source": []
  },
  {
   "cell_type": "code",
   "execution_count": null,
   "id": "ebde7329-7f8b-4c94-87f0-d3f9fed8f724",
   "metadata": {},
   "outputs": [],
   "source": []
  },
  {
   "cell_type": "code",
   "execution_count": null,
   "id": "d108f35c-55b0-44ed-a0e5-b3771a749716",
   "metadata": {},
   "outputs": [],
   "source": []
  },
  {
   "cell_type": "code",
   "execution_count": null,
   "id": "8e420bc6-0778-4307-8421-21599b28be73",
   "metadata": {},
   "outputs": [],
   "source": []
  }
 ],
 "metadata": {
  "kernelspec": {
   "display_name": "Python 3 (ipykernel)",
   "language": "python",
   "name": "python3"
  },
  "language_info": {
   "codemirror_mode": {
    "name": "ipython",
    "version": 3
   },
   "file_extension": ".py",
   "mimetype": "text/x-python",
   "name": "python",
   "nbconvert_exporter": "python",
   "pygments_lexer": "ipython3",
   "version": "3.11.7"
  }
 },
 "nbformat": 4,
 "nbformat_minor": 5
}
